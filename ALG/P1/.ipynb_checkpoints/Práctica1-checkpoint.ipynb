{
 "cells": [
  {
   "cell_type": "code",
   "execution_count": 10,
   "metadata": {},
   "outputs": [
    {
     "data": {
      "text/plain": [
       "[210, 357, 635, 733, 930]"
      ]
     },
     "execution_count": 10,
     "metadata": {},
     "output_type": "execute_result"
    }
   ],
   "source": [
    "def ejercicio2(lista):\n",
    "    res = []\n",
    "    for i in range(0,len(lista)):\n",
    "        value = 0\n",
    "        for j in range(0,i):\n",
    "            if lista[i]>lista[j] and value < res[j]: #buscamos la subsecuencia\n",
    "                value= res[j]\n",
    "        res.append(value+1) #se considera al propio elemento\n",
    "    return res\n",
    "\n",
    "def ejercicio3(lista):\n",
    "    return max(ejercicio2(lista))\n",
    "\n",
    "def ejercicio4Punteros(lista):\n",
    "    res = [] #guardo el tamaño de las subsecuencia\n",
    "    punteros = []\n",
    "    camino = []\n",
    "    for i in range(0,len(lista)):\n",
    "        value = 0\n",
    "        puntero = -1\n",
    "        for j in range(0,i):\n",
    "            if lista[i]>lista[j] and value < res[j]: #buscamos la subsecuencia mas larga\n",
    "                puntero = j\n",
    "                value= res[j]\n",
    "        res.append(value+1) #se considera al propio elemento\n",
    "        punteros.append(puntero)\n",
    "    #print(punteros)\n",
    "    t = res.index(max(res))\n",
    "    while t != -1: #recorremos los punteros para encontrar el camino\n",
    "        camino.append(lista[t])\n",
    "        t = punteros[t]\n",
    "    camino.reverse()\n",
    "    return camino\n",
    "\n",
    "ejercicio4Punteros([210, 816, 357, 107, 889, 635, 733, 930, 842, 542])\n",
    "\n",
    "#Opcionales\n",
    "\n",
    "\n"
   ]
  },
  {
   "cell_type": "code",
   "execution_count": null,
   "metadata": {
    "collapsed": true
   },
   "outputs": [],
   "source": [
    "def sustituirmenor(lista,elemento):\n",
    "    j = len(lista)-1\n",
    "    while j != -1:\n",
    "        if elemento < lista[j]:\n",
    "            lista.remove(lista[j])\n",
    "            j-=1\n",
    "        else:\n",
    "            j -=1\n",
    "    lista.append(elemento)\n",
    "\n",
    "    \n",
    "def ejercicioOpcional2(lista):\n",
    "    menores = []\n",
    "    menores.append(lista[0])\n",
    "    for i in range(1,len(lista)):\n",
    "        sustituirmenor(menores,lista[i])\n",
    "    return menores\n",
    "                \n",
    "ejercicioOpcional2([210, 816, 357, 107, 889, 635, 733, 930, 842, 542])\n",
    "    \n",
    "    "
   ]
  }
 ],
 "metadata": {
  "kernelspec": {
   "display_name": "Python 3",
   "language": "python",
   "name": "python3"
  },
  "language_info": {
   "codemirror_mode": {
    "name": "ipython",
    "version": 3
   },
   "file_extension": ".py",
   "mimetype": "text/x-python",
   "name": "python",
   "nbconvert_exporter": "python",
   "pygments_lexer": "ipython3",
   "version": "3.6.1"
  }
 },
 "nbformat": 4,
 "nbformat_minor": 2
}
